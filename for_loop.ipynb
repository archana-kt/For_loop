{
 "cells": [
  {
   "cell_type": "markdown",
   "id": "29953887",
   "metadata": {},
   "source": [
    "# For loop"
   ]
  },
  {
   "cell_type": "code",
   "execution_count": 3,
   "id": "6c84fc9b",
   "metadata": {},
   "outputs": [
    {
     "name": "stdout",
     "output_type": "stream",
     "text": [
      "0\n",
      "1\n",
      "2\n",
      "3\n",
      "4\n",
      "5\n",
      "6\n",
      "7\n",
      "8\n",
      "9\n"
     ]
    }
   ],
   "source": [
    "for i in range(10):\n",
    "    print(i)"
   ]
  },
  {
   "cell_type": "code",
   "execution_count": 5,
   "id": "25292d96",
   "metadata": {},
   "outputs": [
    {
     "name": "stdout",
     "output_type": "stream",
     "text": [
      "0\n",
      "1\n",
      "2\n",
      "3\n",
      "4\n"
     ]
    }
   ],
   "source": [
    "for i in range(5):\n",
    "    print(i)"
   ]
  },
  {
   "cell_type": "code",
   "execution_count": 6,
   "id": "0f382a31",
   "metadata": {},
   "outputs": [],
   "source": [
    "# which means range(i to n-1)"
   ]
  },
  {
   "cell_type": "code",
   "execution_count": 7,
   "id": "4cf16764",
   "metadata": {},
   "outputs": [
    {
     "name": "stdout",
     "output_type": "stream",
     "text": [
      "0\n",
      "1\n",
      "2\n",
      "3\n",
      "4\n",
      "5\n",
      "6\n",
      "7\n",
      "8\n",
      "9\n"
     ]
    }
   ],
   "source": [
    "for i in range(0,10,1): # 1 is a step\n",
    "    print(i)"
   ]
  },
  {
   "cell_type": "code",
   "execution_count": 8,
   "id": "15fc75ec",
   "metadata": {},
   "outputs": [],
   "source": [
    "# here in for loop, it always initialize, condition check, increment at a same time within range function\n",
    "# but in while loop, need to initiate,condition check,increment seperately"
   ]
  },
  {
   "cell_type": "code",
   "execution_count": 9,
   "id": "5617f2e2",
   "metadata": {},
   "outputs": [],
   "source": [
    "for i in range(0,10,-1):\n",
    "    print(i)"
   ]
  },
  {
   "cell_type": "code",
   "execution_count": 10,
   "id": "48e1103f",
   "metadata": {},
   "outputs": [],
   "source": [
    "# here no output. bcoz the condition not satisfied. 0 is not greater than 10"
   ]
  },
  {
   "cell_type": "code",
   "execution_count": 12,
   "id": "695609d4",
   "metadata": {},
   "outputs": [
    {
     "name": "stdout",
     "output_type": "stream",
     "text": [
      "10\n",
      "9\n",
      "8\n",
      "7\n",
      "6\n",
      "5\n",
      "4\n",
      "3\n",
      "2\n",
      "1\n"
     ]
    }
   ],
   "source": [
    "for i in range(10,0,-1):\n",
    "    print(i)"
   ]
  },
  {
   "cell_type": "code",
   "execution_count": 13,
   "id": "d8da746f",
   "metadata": {},
   "outputs": [],
   "source": [
    "# see here, the condition is satisfied. 10 is greater than 0."
   ]
  },
  {
   "cell_type": "code",
   "execution_count": 15,
   "id": "c722c5cb",
   "metadata": {},
   "outputs": [
    {
     "name": "stdout",
     "output_type": "stream",
     "text": [
      "0\n",
      "2\n",
      "4\n",
      "6\n",
      "8\n"
     ]
    }
   ],
   "source": [
    "for i in range(0,10,2):# with 2 step\n",
    "    print(i)"
   ]
  },
  {
   "cell_type": "markdown",
   "id": "eaf5b3c2",
   "metadata": {},
   "source": [
    "# Print method"
   ]
  },
  {
   "cell_type": "code",
   "execution_count": 16,
   "id": "4ff96468",
   "metadata": {},
   "outputs": [],
   "source": [
    "print?"
   ]
  },
  {
   "cell_type": "raw",
   "id": "d4c79f91",
   "metadata": {},
   "source": [
    "Docstring:\n",
    "print(value, ..., sep=' ', end='\\n', file=sys.stdout, flush=False)\n",
    "\n",
    "Prints the values to a stream, or to sys.stdout by default.\n",
    "Optional keyword arguments:\n",
    "file:  a file-like object (stream); defaults to the current sys.stdout.\n",
    "sep:   string inserted between values, default a space.\n",
    "end:   string appended after the last value, default a newline.\n",
    "flush: whether to forcibly flush the stream.\n",
    "Type:      builtin_function_or_method"
   ]
  },
  {
   "cell_type": "code",
   "execution_count": 17,
   "id": "ae59c5e2",
   "metadata": {},
   "outputs": [],
   "source": [
    "# For print method, always it goes to new line after executing the statement. see always end = '\\n'"
   ]
  },
  {
   "cell_type": "code",
   "execution_count": 18,
   "id": "9280e470",
   "metadata": {},
   "outputs": [
    {
     "name": "stdout",
     "output_type": "stream",
     "text": [
      "0\n",
      "1\n",
      "2\n",
      "3\n",
      "4\n",
      "5\n",
      "6\n",
      "7\n",
      "8\n",
      "9\n"
     ]
    }
   ],
   "source": [
    "for i in range(10):\n",
    "    print(i)"
   ]
  },
  {
   "cell_type": "code",
   "execution_count": 21,
   "id": "82730eb6",
   "metadata": {},
   "outputs": [
    {
     "name": "stdout",
     "output_type": "stream",
     "text": [
      "0\n",
      "1\n",
      "2\n",
      "3\n",
      "4\n",
      "5\n",
      "6\n",
      "7\n",
      "8\n",
      "9\n"
     ]
    }
   ],
   "source": [
    "for i in range(10):\n",
    "    print(i,end = \"\\n\") # see both are same. no need to give \\n"
   ]
  },
  {
   "cell_type": "code",
   "execution_count": 23,
   "id": "7ef3bcaf",
   "metadata": {},
   "outputs": [
    {
     "name": "stdout",
     "output_type": "stream",
     "text": [
      "0 1 2 3 4 5 6 7 8 9 "
     ]
    }
   ],
   "source": [
    "for i in range(10):\n",
    "    print(i, end = \" \") # now it prints in same line with space"
   ]
  },
  {
   "cell_type": "code",
   "execution_count": 27,
   "id": "d58560f5",
   "metadata": {},
   "outputs": [
    {
     "name": "stdout",
     "output_type": "stream",
     "text": [
      "0😊1😊2😊3😊4😊5😊6😊7😊8😊9😊"
     ]
    }
   ],
   "source": [
    "for i in range(10):\n",
    "    print(i, end = \"😊\") # space filled with smiley"
   ]
  },
  {
   "cell_type": "code",
   "execution_count": 28,
   "id": "c930ad17",
   "metadata": {},
   "outputs": [
    {
     "name": "stdout",
     "output_type": "stream",
     "text": [
      "0*1*2*3*4*5*6*7*8*9*"
     ]
    }
   ],
   "source": [
    "for i in range(10):\n",
    "    print(i, end = \"*\") # space filled with star"
   ]
  },
  {
   "cell_type": "markdown",
   "id": "cadfcb3d",
   "metadata": {},
   "source": [
    "# For loop (inner and outer loop)"
   ]
  },
  {
   "cell_type": "code",
   "execution_count": 30,
   "id": "c8ca302e",
   "metadata": {},
   "outputs": [
    {
     "name": "stdout",
     "output_type": "stream",
     "text": [
      "0\n",
      "1\n",
      "2\n",
      "3\n",
      "4\n"
     ]
    }
   ],
   "source": [
    "for i in range(5): # 0 1 2 3 4\n",
    "    print(i) "
   ]
  },
  {
   "cell_type": "code",
   "execution_count": 31,
   "id": "dfb0a502",
   "metadata": {},
   "outputs": [
    {
     "name": "stdout",
     "output_type": "stream",
     "text": [
      "0\n",
      "1\n",
      "0\n",
      "1\n",
      "0\n",
      "1\n",
      "0\n",
      "1\n",
      "0\n",
      "1\n"
     ]
    }
   ],
   "source": [
    "for i in range(5): # 0 1 2 3 4\n",
    "    for j in range(2): # 0 1\n",
    "        print(j)"
   ]
  },
  {
   "cell_type": "code",
   "execution_count": 32,
   "id": "1f24d36c",
   "metadata": {},
   "outputs": [],
   "source": [
    "# see j is 0 1 \n",
    "# j will print i times(5 times)"
   ]
  },
  {
   "cell_type": "code",
   "execution_count": 33,
   "id": "413d7ca6",
   "metadata": {},
   "outputs": [
    {
     "name": "stdout",
     "output_type": "stream",
     "text": [
      "0 1 0 1 0 1 0 1 0 1 "
     ]
    }
   ],
   "source": [
    "for i in range(5):\n",
    "    for j in range(2):\n",
    "        print(j, end = ' ')"
   ]
  },
  {
   "cell_type": "code",
   "execution_count": 35,
   "id": "0f46282c",
   "metadata": {},
   "outputs": [
    {
     "name": "stdout",
     "output_type": "stream",
     "text": [
      "0 1  \n",
      "0 1  \n",
      "0 1  \n",
      "0 1  \n",
      "0 1  \n"
     ]
    }
   ],
   "source": [
    "for i in range(5):\n",
    "    for j in range(2):\n",
    "        print(j, end = ' ') # after completing this print statement, it goes to next new line\n",
    "    print(\" \") # now this print statement also after printing, it goes to next new line. So it goes to outer loop"
   ]
  },
  {
   "cell_type": "code",
   "execution_count": 37,
   "id": "d78233e2",
   "metadata": {},
   "outputs": [
    {
     "name": "stdout",
     "output_type": "stream",
     "text": [
      "0 0 0 0 1 1 1 1 2 2 2 2 3 3 3 3 4 4 4 4 "
     ]
    }
   ],
   "source": [
    "for i in range(5): # 0 1 2 3 4 \n",
    "    for j in range(4): # 0 1 2 3 \n",
    "        print(i, end = ' ') # printing i here 5 times"
   ]
  },
  {
   "cell_type": "code",
   "execution_count": 38,
   "id": "b3d9b01e",
   "metadata": {},
   "outputs": [
    {
     "name": "stdout",
     "output_type": "stream",
     "text": [
      "0 1 2 3 0 1 2 3 0 1 2 3 0 1 2 3 0 1 2 3 "
     ]
    }
   ],
   "source": [
    "for i in range(5): # 0 1 2 3 4 \n",
    "    for j in range(4): # 0 1 2 3 \n",
    "        print(j, end = ' ') # printing j here 5 times"
   ]
  },
  {
   "cell_type": "code",
   "execution_count": 42,
   "id": "184a2126",
   "metadata": {},
   "outputs": [
    {
     "name": "stdout",
     "output_type": "stream",
     "text": [
      "0 0 0 0  \n",
      "1 1 1 1  \n",
      "2 2 2 2  \n",
      "3 3 3 3  \n",
      "4 4 4 4  \n"
     ]
    }
   ],
   "source": [
    "for i in range(5): # 0 1 2 3 4 \n",
    "    for j in range(4): # 0 1 2 3 \n",
    "        print(i, end = ' ') # printing i here 5 times and goes to next line\n",
    "    print(\" \") # printing space with next line with outer loop"
   ]
  },
  {
   "cell_type": "code",
   "execution_count": 43,
   "id": "a7d3ad1f",
   "metadata": {},
   "outputs": [
    {
     "name": "stdout",
     "output_type": "stream",
     "text": [
      "0  \n",
      "0  \n",
      "0  \n",
      "0  \n",
      "1  \n",
      "1  \n",
      "1  \n",
      "1  \n",
      "2  \n",
      "2  \n",
      "2  \n",
      "2  \n",
      "3  \n",
      "3  \n",
      "3  \n",
      "3  \n",
      "4  \n",
      "4  \n",
      "4  \n",
      "4  \n"
     ]
    }
   ],
   "source": [
    "for i in range(5):\n",
    "    for j in range(4):\n",
    "        print(i, end = ' ') # printing i here 5 times and goes to next line\n",
    "        print(\" \") # printing space with next line"
   ]
  },
  {
   "cell_type": "code",
   "execution_count": 44,
   "id": "013f71ab",
   "metadata": {},
   "outputs": [
    {
     "name": "stdout",
     "output_type": "stream",
     "text": [
      "0  \n",
      "0  \n",
      "1  \n",
      "1  \n",
      "2  \n",
      "2  \n"
     ]
    }
   ],
   "source": [
    "for i in range(3): # 0 1 2\n",
    "    for j in range(2): # 0 1 \n",
    "        print(i, end = ' ') # printing i here 3 times and goes to next line\n",
    "        print(\" \")"
   ]
  },
  {
   "cell_type": "code",
   "execution_count": 47,
   "id": "be4020d6",
   "metadata": {},
   "outputs": [
    {
     "name": "stdout",
     "output_type": "stream",
     "text": [
      "0 1  \n",
      "0 1  \n",
      "0 1  \n"
     ]
    }
   ],
   "source": [
    "for i in range(3): # 0 1 2\n",
    "    for j in range(2): # 0 1 \n",
    "        print(j, end = ' ') # printing j here 3 times and goes to next line\n",
    "    print(\" \")"
   ]
  },
  {
   "cell_type": "code",
   "execution_count": 49,
   "id": "2bdda3c8",
   "metadata": {},
   "outputs": [
    {
     "name": "stdout",
     "output_type": "stream",
     "text": [
      "0 1 2 3 4  \n",
      "0 1 2 3 4  \n",
      "0 1 2 3 4  \n"
     ]
    }
   ],
   "source": [
    "for i in range(3): # 0 1 2\n",
    "    for j in range(5): # 0 1 2 3 4\n",
    "        print(j, end = ' ') # printing j here 3 times and goes to next line\n",
    "    print(\" \")"
   ]
  },
  {
   "cell_type": "code",
   "execution_count": 50,
   "id": "820be47b",
   "metadata": {},
   "outputs": [],
   "source": [
    "# See for all, i has rows and j has columns. Eg: In above, 3 rows and 5 columns. i=3,j=5"
   ]
  },
  {
   "cell_type": "code",
   "execution_count": 52,
   "id": "0c92f254",
   "metadata": {},
   "outputs": [
    {
     "name": "stdout",
     "output_type": "stream",
     "text": [
      "0 0 0 0 0  \n",
      "1 1 1 1 1  \n",
      "2 2 2 2 2  \n"
     ]
    }
   ],
   "source": [
    "for i in range(3): # 0 1 2\n",
    "    for j in range(5): # 0 1 2 3 4\n",
    "        print(i, end = ' ') # printing i here 3 times and goes to next line\n",
    "    print(\" \")"
   ]
  },
  {
   "cell_type": "code",
   "execution_count": 54,
   "id": "cf7f75e2",
   "metadata": {},
   "outputs": [
    {
     "name": "stdout",
     "output_type": "stream",
     "text": [
      "0 0 0 0 0  \n",
      "1 1 1 1 1  \n",
      "2 2 2 2 2  \n",
      "3 3 3 3 3  \n",
      "4 4 4 4 4  \n"
     ]
    }
   ],
   "source": [
    "for i in range(5): # 0 1 2 3 4 \n",
    "    for j in range(5): # 0 1 2 3 4\n",
    "        print(i, end = ' ') # printing i here 5 times and goes to next line\n",
    "    print(\" \")"
   ]
  },
  {
   "cell_type": "code",
   "execution_count": 56,
   "id": "f9e0cf65",
   "metadata": {},
   "outputs": [
    {
     "name": "stdout",
     "output_type": "stream",
     "text": [
      "0 1 2 3 4  \n",
      "0 1 2 3 4  \n",
      "0 1 2 3 4  \n",
      "0 1 2 3 4  \n",
      "0 1 2 3 4  \n"
     ]
    }
   ],
   "source": [
    "for i in range(5): # 0 1 2 3 4 \n",
    "    for j in range(5): # 0 1 2 3 4\n",
    "        print(j, end = ' ') # printing j here 5 times and goes to next line\n",
    "    print(\" \")"
   ]
  },
  {
   "cell_type": "code",
   "execution_count": 57,
   "id": "2cea79fb",
   "metadata": {},
   "outputs": [
    {
     "name": "stdout",
     "output_type": "stream",
     "text": [
      "* * * * *  \n",
      "* * * * *  \n",
      "* * * * *  \n",
      "* * * * *  \n",
      "* * * * *  \n"
     ]
    }
   ],
   "source": [
    "for i in range(5): # 0 1 2 3 4 \n",
    "    for j in range(5): # 0 1 2 3 4\n",
    "        print('*', end = ' ') # printing i here 5 times and goes to next line\n",
    "    print(\" \")"
   ]
  },
  {
   "cell_type": "code",
   "execution_count": 61,
   "id": "66904f95",
   "metadata": {},
   "outputs": [
    {
     "name": "stdout",
     "output_type": "stream",
     "text": [
      " \n",
      "*  \n",
      "* *  \n",
      "* * *  \n",
      "* * * *  \n"
     ]
    }
   ],
   "source": [
    "for i in range(5): # 0 1 2 3 4 \n",
    "    for j in range(i): # 0 1 2 3 4\n",
    "        print('*', end = ' ') # printing * here 5 times and goes to next line\n",
    "    print(\" \")"
   ]
  },
  {
   "cell_type": "code",
   "execution_count": 60,
   "id": "0ffe5d82",
   "metadata": {},
   "outputs": [
    {
     "name": "stdout",
     "output_type": "stream",
     "text": [
      "*  \n",
      "* *  \n",
      "* * *  \n",
      "* * * *  \n",
      "* * * * *  \n"
     ]
    }
   ],
   "source": [
    "for i in range(5): # 0 1 2 3 4 \n",
    "    for j in range(i+1): # 0 1 2 3 4\n",
    "        print('*', end = ' ') # printing * here 5 times and goes to next line with increment\n",
    "    print(\" \")"
   ]
  },
  {
   "cell_type": "code",
   "execution_count": 62,
   "id": "5bbb6073",
   "metadata": {},
   "outputs": [],
   "source": [
    "n = 5"
   ]
  },
  {
   "cell_type": "code",
   "execution_count": 63,
   "id": "1f42a049",
   "metadata": {},
   "outputs": [
    {
     "name": "stdout",
     "output_type": "stream",
     "text": [
      "* \n",
      "* * \n",
      "* * * \n",
      "* * * * \n",
      "* * * * * \n"
     ]
    }
   ],
   "source": [
    "for i in range(5):\n",
    "    print(\"* \" * (i+1))"
   ]
  },
  {
   "cell_type": "raw",
   "id": "2407b5b1",
   "metadata": {},
   "source": [
    "# which means * multiplied by i times so,\n",
    "\n",
    "0 -> *\n",
    "1 -> **\n",
    "2 -> ***\n",
    "3 -> ****\n",
    "4 -> *****"
   ]
  },
  {
   "cell_type": "code",
   "execution_count": null,
   "id": "b0b4f974",
   "metadata": {},
   "outputs": [],
   "source": []
  },
  {
   "cell_type": "code",
   "execution_count": null,
   "id": "a7c6e254",
   "metadata": {},
   "outputs": [],
   "source": []
  }
 ],
 "metadata": {
  "kernelspec": {
   "display_name": "Python 3 (ipykernel)",
   "language": "python",
   "name": "python3"
  },
  "language_info": {
   "codemirror_mode": {
    "name": "ipython",
    "version": 3
   },
   "file_extension": ".py",
   "mimetype": "text/x-python",
   "name": "python",
   "nbconvert_exporter": "python",
   "pygments_lexer": "ipython3",
   "version": "3.9.7"
  }
 },
 "nbformat": 4,
 "nbformat_minor": 5
}
