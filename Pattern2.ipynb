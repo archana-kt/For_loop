{
 "cells": [
  {
   "cell_type": "code",
   "execution_count": 11,
   "id": "80c965b5",
   "metadata": {},
   "outputs": [
    {
     "name": "stdout",
     "output_type": "stream",
     "text": [
      "0\n",
      "1\n",
      "2\n",
      "0\n",
      "1\n",
      "2\n",
      "0\n",
      "1\n",
      "2\n",
      "0\n",
      "1\n",
      "2\n",
      "0\n",
      "1\n",
      "2\n"
     ]
    }
   ],
   "source": [
    "# 5 * 3 = 15 elements will be printed\n",
    "\n",
    "for i in range(0,5): # 0 1 2 3 4\n",
    "    for j in range(0,3): # 0 1 2 (printing 0,1,2 for 5 times)\n",
    "        print(j)"
   ]
  },
  {
   "cell_type": "raw",
   "id": "c5f29204",
   "metadata": {},
   "source": [
    "# i value is 0 means 0,1,2 will be printed\n",
    "# i value is 1 means 0,1,2 will be printed\n",
    "# i value is 2 means 0,1,2 will be printed\n",
    "# i value is 3 means 0,1,2 will be printed\n",
    "# i value is 4 means 0,1,2 will be printed\n",
    "\n",
    "\n",
    "So totally 15 elements"
   ]
  },
  {
   "cell_type": "code",
   "execution_count": 6,
   "id": "ddd14f89",
   "metadata": {},
   "outputs": [
    {
     "name": "stdout",
     "output_type": "stream",
     "text": [
      "0\n",
      "0\n",
      "0\n",
      "1\n",
      "1\n",
      "1\n",
      "2\n",
      "2\n",
      "2\n",
      "3\n",
      "3\n",
      "3\n",
      "4\n",
      "4\n",
      "4\n"
     ]
    }
   ],
   "source": [
    "for i in range(0,5): # 0 1 2 3 4\n",
    "    for j in range(0,3): \n",
    "        print(i)"
   ]
  },
  {
   "cell_type": "raw",
   "id": "3dcbd014",
   "metadata": {},
   "source": [
    "# i value is 0 means 0,0,0 will be printed bcoz it's printing 'i'\n",
    "# i value is 1 means 1,1,1 will be printed bcoz it's printing 'i'\n",
    "# i value is 2 means 2,2,2 will be printed bcoz it's printing 'i'\n",
    "# i value is 3 means 3,3,3 will be printed bcoz it's printing 'i'\n",
    "# i value is 4 means 4,4,4 will be printed bcoz it's printing 'i'\n",
    "\n",
    "So totally 15 elements"
   ]
  },
  {
   "cell_type": "code",
   "execution_count": 9,
   "id": "d9a02011",
   "metadata": {},
   "outputs": [
    {
     "name": "stdout",
     "output_type": "stream",
     "text": [
      "0 0 0  \n",
      "1 1 1  \n",
      "2 2 2  \n",
      "3 3 3  \n",
      "4 4 4  \n"
     ]
    }
   ],
   "source": [
    "for i in range(0,5): # 0 1 2 3 4\n",
    "    for j in range(0,3):\n",
    "        print(i, end = \" \")\n",
    "    print(\" \")"
   ]
  },
  {
   "cell_type": "code",
   "execution_count": 15,
   "id": "a6339f44",
   "metadata": {},
   "outputs": [
    {
     "name": "stdout",
     "output_type": "stream",
     "text": [
      " \n",
      "1  \n",
      "2 2  \n",
      "3 3 3  \n",
      "4 4 4 4  \n"
     ]
    }
   ],
   "source": [
    "for i in range(0,5): # 0 1 2 3 4\n",
    "    for j in range(0,i):\n",
    "        print(i, end = \" \")\n",
    "    print(\" \")"
   ]
  },
  {
   "cell_type": "raw",
   "id": "96525b43",
   "metadata": {},
   "source": [
    "# i=0 means (0,0) -> So it will never print anything\n",
    "# i=1 means (0,1) -> So, it will print 1 \n",
    "# i=2 means (0,2) -> So, it will print 2 2\n",
    "# i=3 means (0,3) -> So, it will print 3 3 3\n",
    "# i=4 means (0,4) -> So, it will print 4 4 4 4\n",
    "\n",
    "1 print 1 time(0-1)\n",
    "2 print 2 times(0-2)\n",
    "3 print 3 times(0-3)\n",
    "4 print 4 times(0-4)"
   ]
  },
  {
   "cell_type": "code",
   "execution_count": 20,
   "id": "007e5705",
   "metadata": {},
   "outputs": [
    {
     "name": "stdout",
     "output_type": "stream",
     "text": [
      " \n",
      " \n",
      "2  \n",
      "3 3  \n",
      "4 4 4  \n"
     ]
    }
   ],
   "source": [
    "for i in range(0,5): # 0 1 2 3 4\n",
    "    for j in range(1,i):\n",
    "        print(i, end = \" \")\n",
    "    print(\" \")"
   ]
  },
  {
   "cell_type": "raw",
   "id": "7f560e60",
   "metadata": {},
   "source": [
    "# i=0 means (1,0) -> So it will never print anything\n",
    "# i=1 means (1,1) -> So, it will never print anything \n",
    "# i=2 means (1,2) -> So, it will print 2 \n",
    "# i=3 means (1,3) -> So, it will print 3 3 \n",
    "# i=4 means (1,4) -> So, it will print 4 4 4 \n",
    "\n",
    "2 print 1 time(2-1)\n",
    "3 print 2 times(3-1)\n",
    "4 print 3 times(4-1)"
   ]
  },
  {
   "cell_type": "code",
   "execution_count": 12,
   "id": "717781e4",
   "metadata": {},
   "outputs": [
    {
     "name": "stdout",
     "output_type": "stream",
     "text": [
      "0 1 2  \n",
      "0 1 2  \n",
      "0 1 2  \n",
      "0 1 2  \n",
      "0 1 2  \n"
     ]
    }
   ],
   "source": [
    "for i in range(5): # 0 1 2 3 4 \n",
    "    for j in range(3): # 0 1 2\n",
    "        print(j, end = \" \") # printing 0,1,2 for 5 times\n",
    "    print(\" \")"
   ]
  },
  {
   "cell_type": "code",
   "execution_count": 19,
   "id": "03a9cda3",
   "metadata": {},
   "outputs": [
    {
     "name": "stdout",
     "output_type": "stream",
     "text": [
      " \n",
      "0  \n",
      "0 1  \n",
      "0 1 2  \n",
      "0 1 2 3  \n"
     ]
    }
   ],
   "source": [
    "for i in range(0,5): # 0 1 2 3 4\n",
    "    for j in range(0,i): \n",
    "        print(j, end = \" \")\n",
    "    print(\" \")"
   ]
  },
  {
   "cell_type": "raw",
   "id": "79ff14d2",
   "metadata": {},
   "source": [
    "# i=0 means (0,0) -> So it will never print anything\n",
    "# i=1 means (0,1) -> So, it will print 0 \n",
    "# i=2 means (0,2) -> So, it will print 0 1\n",
    "# i=3 means (0,3) -> So, it will print 0 1 2\n",
    "# i=4 means (0,4) -> So, it will print 0 1 2 3\n",
    "\n",
    "0         print 1 time(0-1)\n",
    "0 1       print 2 times(0-2)\n",
    "0 1 2     print 3 times(0-3)\n",
    "0 1 2 3   print 4 times(0-4)"
   ]
  },
  {
   "cell_type": "code",
   "execution_count": 21,
   "id": "ca4f222a",
   "metadata": {},
   "outputs": [
    {
     "name": "stdout",
     "output_type": "stream",
     "text": [
      " \n",
      " \n",
      "1  \n",
      "1 2  \n",
      "1 2 3  \n"
     ]
    }
   ],
   "source": [
    "for i in range(0,5): # 0 1 2 3 4\n",
    "    for j in range(1,i): \n",
    "        print(j, end = \" \")\n",
    "    print(\" \")"
   ]
  },
  {
   "cell_type": "raw",
   "id": "ab07946b",
   "metadata": {},
   "source": [
    "# i=0 means (1,0) -> So it will never print anything\n",
    "# i=1 means (1,1) -> So, it will never print anything\n",
    "# i=2 means (1,2) -> So, it will print 1\n",
    "# i=3 means (1,3) -> So, it will print 1 2\n",
    "# i=4 means (1,4) -> So, it will print 1 2 3\n",
    "\n",
    "\n",
    "1       print 1 times(2-1)\n",
    "1 2     print 2 times(3-1)\n",
    "1 2 3   print 3 times(4-1)"
   ]
  },
  {
   "cell_type": "code",
   "execution_count": 22,
   "id": "e155d614",
   "metadata": {},
   "outputs": [
    {
     "name": "stdout",
     "output_type": "stream",
     "text": [
      " \n",
      "0  \n",
      "0 1  \n",
      "0 1 2  \n",
      "0 1 2 3  \n",
      "0 1 2 3 4  \n",
      "0 1 2 3 4 5  \n",
      "0 1 2 3 4 5 6  \n",
      "0 1 2 3 4 5 6 7  \n",
      "0 1 2 3 4 5 6 7 8  \n"
     ]
    }
   ],
   "source": [
    "for i in range(10):\n",
    "    for j in range(i):\n",
    "        print(j, end = \" \")\n",
    "    print(\" \")"
   ]
  },
  {
   "cell_type": "code",
   "execution_count": 23,
   "id": "049e817f",
   "metadata": {},
   "outputs": [],
   "source": [
    "# see here also 0,0 is not printing and then it follows the same scenerio"
   ]
  },
  {
   "cell_type": "code",
   "execution_count": 24,
   "id": "3366e4b6",
   "metadata": {},
   "outputs": [
    {
     "name": "stdout",
     "output_type": "stream",
     "text": [
      " \n",
      "1  \n",
      "2 2  \n",
      "3 3 3  \n",
      "4 4 4 4  \n",
      "5 5 5 5 5  \n",
      "6 6 6 6 6 6  \n",
      "7 7 7 7 7 7 7  \n",
      "8 8 8 8 8 8 8 8  \n",
      "9 9 9 9 9 9 9 9 9  \n"
     ]
    }
   ],
   "source": [
    "for i in range(10):\n",
    "    for j in range(i):\n",
    "        print(i, end = \" \")\n",
    "    print(\" \")"
   ]
  },
  {
   "cell_type": "code",
   "execution_count": 25,
   "id": "27c3fc8d",
   "metadata": {},
   "outputs": [],
   "source": [
    "# see here also 0,0 is not printing and then it follows the same scenerio"
   ]
  },
  {
   "cell_type": "code",
   "execution_count": 26,
   "id": "473039a8",
   "metadata": {},
   "outputs": [
    {
     "name": "stdout",
     "output_type": "stream",
     "text": [
      "0  \n",
      "1 1  \n",
      "2 2 2  \n",
      "3 3 3 3  \n",
      "4 4 4 4 4  \n",
      "5 5 5 5 5 5  \n",
      "6 6 6 6 6 6 6  \n",
      "7 7 7 7 7 7 7 7  \n",
      "8 8 8 8 8 8 8 8 8  \n",
      "9 9 9 9 9 9 9 9 9 9  \n"
     ]
    }
   ],
   "source": [
    "for i in range(10):\n",
    "    for j in range(i+1):\n",
    "        print(i, end = \" \")\n",
    "    print(\" \")"
   ]
  },
  {
   "cell_type": "raw",
   "id": "f226c044",
   "metadata": {},
   "source": [
    "# i=0 means (i+1) -> ((0,0) + 1)  -> 0+1 = 1 time printing 0\n",
    "# i=1 means (i+1) -> ((0,1) + 1)  -> 1+1 = 2 times printing 1\n",
    "# i=2 means (i+1) -> ((0,2) + 1)  -> 2+1 = 3 times printing 2\n",
    "# i=3 means (i+1) -> ((0,3) + 1)  -> 3+1 = 4 times printing 3\n",
    "# i=4 means (i+1) -> ((0,4) + 1)  -> 4+1 = 5 times printing 4 and so on"
   ]
  },
  {
   "cell_type": "code",
   "execution_count": 28,
   "id": "1fcbd29a",
   "metadata": {},
   "outputs": [
    {
     "name": "stdout",
     "output_type": "stream",
     "text": [
      " \n",
      "1  \n",
      "2 2  \n",
      "3 3 3  \n",
      "4 4 4 4  \n",
      "5 5 5 5 5  \n",
      "6 6 6 6 6 6  \n",
      "7 7 7 7 7 7 7  \n",
      "8 8 8 8 8 8 8 8  \n",
      "9 9 9 9 9 9 9 9 9  \n"
     ]
    }
   ],
   "source": [
    "for i in range(10):\n",
    "    for j in range(1,i+1): # starting from 1 index\n",
    "        print(i, end = \" \")\n",
    "    print(\" \")"
   ]
  },
  {
   "cell_type": "code",
   "execution_count": 29,
   "id": "46d84ea2",
   "metadata": {},
   "outputs": [
    {
     "name": "stdout",
     "output_type": "stream",
     "text": [
      "0  \n",
      "0 1  \n",
      "0 1 2  \n",
      "0 1 2 3  \n",
      "0 1 2 3 4  \n",
      "0 1 2 3 4 5  \n",
      "0 1 2 3 4 5 6  \n",
      "0 1 2 3 4 5 6 7  \n",
      "0 1 2 3 4 5 6 7 8  \n",
      "0 1 2 3 4 5 6 7 8 9  \n"
     ]
    }
   ],
   "source": [
    "for i in range(10):\n",
    "    for j in range(i+1):\n",
    "        print(j, end = \" \")\n",
    "    print(\" \")"
   ]
  },
  {
   "cell_type": "code",
   "execution_count": 30,
   "id": "0ebe2656",
   "metadata": {},
   "outputs": [
    {
     "name": "stdout",
     "output_type": "stream",
     "text": [
      " \n",
      "1  \n",
      "1 2  \n",
      "1 2 3  \n",
      "1 2 3 4  \n",
      "1 2 3 4 5  \n",
      "1 2 3 4 5 6  \n",
      "1 2 3 4 5 6 7  \n",
      "1 2 3 4 5 6 7 8  \n",
      "1 2 3 4 5 6 7 8 9  \n"
     ]
    }
   ],
   "source": [
    "for i in range(10):\n",
    "    for j in range(1,i+1):\n",
    "        print(j, end = \" \")\n",
    "    print(\" \")"
   ]
  },
  {
   "cell_type": "code",
   "execution_count": 32,
   "id": "b641a1bb",
   "metadata": {},
   "outputs": [
    {
     "name": "stdout",
     "output_type": "stream",
     "text": [
      "0 0 0  \n",
      "1 1 1  \n"
     ]
    }
   ],
   "source": [
    "for i in range(2): # 0 1\n",
    "    for j in range(3):\n",
    "        print(i, end = \" \") # 0 1 printed for 2 rows\n",
    "    print(\" \")"
   ]
  },
  {
   "cell_type": "code",
   "execution_count": 34,
   "id": "281c95cb",
   "metadata": {},
   "outputs": [
    {
     "name": "stdout",
     "output_type": "stream",
     "text": [
      "0 1 2  \n",
      "0 1 2  \n"
     ]
    }
   ],
   "source": [
    "for i in range(2): # 0 1\n",
    "    for j in range(3): # 0 1 2\n",
    "        print(j, end = \" \") # 0 1 2 printed for 2 rows\n",
    "    print(\" \")"
   ]
  },
  {
   "cell_type": "code",
   "execution_count": 35,
   "id": "2079ce51",
   "metadata": {},
   "outputs": [
    {
     "name": "stdout",
     "output_type": "stream",
     "text": [
      "0  \n",
      "0 1  \n",
      "0 1 2  \n",
      "0 1 2 3  \n",
      "0 1 2 3 4  \n"
     ]
    }
   ],
   "source": [
    "for i in range(5):\n",
    "    for j in range(i+1):\n",
    "        print(j, end = \" \")\n",
    "    print(\" \")"
   ]
  },
  {
   "cell_type": "code",
   "execution_count": null,
   "id": "79169ebe",
   "metadata": {},
   "outputs": [],
   "source": []
  },
  {
   "cell_type": "code",
   "execution_count": null,
   "id": "6ee7fdc6",
   "metadata": {},
   "outputs": [],
   "source": []
  },
  {
   "cell_type": "code",
   "execution_count": null,
   "id": "f91fe585",
   "metadata": {},
   "outputs": [],
   "source": []
  },
  {
   "cell_type": "code",
   "execution_count": null,
   "id": "e94a2790",
   "metadata": {},
   "outputs": [],
   "source": []
  }
 ],
 "metadata": {
  "kernelspec": {
   "display_name": "Python 3 (ipykernel)",
   "language": "python",
   "name": "python3"
  },
  "language_info": {
   "codemirror_mode": {
    "name": "ipython",
    "version": 3
   },
   "file_extension": ".py",
   "mimetype": "text/x-python",
   "name": "python",
   "nbconvert_exporter": "python",
   "pygments_lexer": "ipython3",
   "version": "3.9.7"
  }
 },
 "nbformat": 4,
 "nbformat_minor": 5
}
