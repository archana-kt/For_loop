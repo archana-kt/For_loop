{
 "cells": [
  {
   "cell_type": "markdown",
   "id": "ef2f7c1c",
   "metadata": {},
   "source": [
    "# Pattern"
   ]
  },
  {
   "cell_type": "code",
   "execution_count": 3,
   "id": "e1a826ae",
   "metadata": {},
   "outputs": [],
   "source": [
    "n = 3"
   ]
  },
  {
   "cell_type": "code",
   "execution_count": 4,
   "id": "badba56e",
   "metadata": {},
   "outputs": [
    {
     "name": "stdout",
     "output_type": "stream",
     "text": [
      "* * * \n",
      "* * * \n",
      "* * * \n"
     ]
    }
   ],
   "source": [
    "for i in range(n):\n",
    "    print(\"* \" * n)"
   ]
  },
  {
   "cell_type": "code",
   "execution_count": 6,
   "id": "f511ea46",
   "metadata": {},
   "outputs": [
    {
     "name": "stdout",
     "output_type": "stream",
     "text": [
      "archana archana archana \n",
      "archana archana archana \n",
      "archana archana archana \n"
     ]
    }
   ],
   "source": [
    "for i in range(n):\n",
    "    print(\"archana \" * n)"
   ]
  },
  {
   "cell_type": "code",
   "execution_count": 8,
   "id": "15c2b6d2",
   "metadata": {},
   "outputs": [
    {
     "name": "stdout",
     "output_type": "stream",
     "text": [
      "0\n",
      "3\n",
      "6\n"
     ]
    }
   ],
   "source": [
    "for i in range(n):\n",
    "    print(i * n)"
   ]
  },
  {
   "cell_type": "code",
   "execution_count": 14,
   "id": "fe3b701b",
   "metadata": {},
   "outputs": [
    {
     "name": "stdout",
     "output_type": "stream",
     "text": [
      "0\n",
      "1\n",
      "2\n"
     ]
    }
   ],
   "source": [
    "for i in range(n):\n",
    "    print(i)"
   ]
  },
  {
   "cell_type": "markdown",
   "id": "b60b7133",
   "metadata": {},
   "source": [
    "# To get static values - We are converting i to string. To get i to n times"
   ]
  },
  {
   "cell_type": "code",
   "execution_count": 11,
   "id": "7375bdb9",
   "metadata": {},
   "outputs": [
    {
     "name": "stdout",
     "output_type": "stream",
     "text": [
      "0\n",
      "1\n",
      "2\n"
     ]
    }
   ],
   "source": [
    "for i in range(n):\n",
    "    print(str(i))"
   ]
  },
  {
   "cell_type": "code",
   "execution_count": 15,
   "id": "3d1169d9",
   "metadata": {},
   "outputs": [
    {
     "name": "stdout",
     "output_type": "stream",
     "text": [
      "000\n",
      "111\n",
      "222\n"
     ]
    }
   ],
   "source": [
    "for i in range(n):\n",
    "    print(str(i) * n)"
   ]
  },
  {
   "cell_type": "code",
   "execution_count": 13,
   "id": "a101d65b",
   "metadata": {},
   "outputs": [
    {
     "name": "stdout",
     "output_type": "stream",
     "text": [
      "0 0 0 \n",
      "1 1 1 \n",
      "2 2 2 \n"
     ]
    }
   ],
   "source": [
    "for i in range(n):\n",
    "    print((str(i)+ \" \") * n)"
   ]
  },
  {
   "cell_type": "code",
   "execution_count": 9,
   "id": "27dd7f2a",
   "metadata": {},
   "outputs": [
    {
     "name": "stdout",
     "output_type": "stream",
     "text": [
      "1 1 1 \n",
      "2 2 2 \n",
      "3 3 3 \n"
     ]
    }
   ],
   "source": [
    "for i in range(n):\n",
    "    print((str(i+1)+ \" \") * n)"
   ]
  },
  {
   "cell_type": "code",
   "execution_count": 16,
   "id": "87657412",
   "metadata": {},
   "outputs": [
    {
     "name": "stdout",
     "output_type": "stream",
     "text": [
      "Enter the number: 5\n"
     ]
    }
   ],
   "source": [
    "n = int(input(\"Enter the number: \"))"
   ]
  },
  {
   "cell_type": "code",
   "execution_count": 17,
   "id": "a160ee5c",
   "metadata": {},
   "outputs": [
    {
     "data": {
      "text/plain": [
       "5"
      ]
     },
     "execution_count": 17,
     "metadata": {},
     "output_type": "execute_result"
    }
   ],
   "source": [
    "n"
   ]
  },
  {
   "cell_type": "code",
   "execution_count": 18,
   "id": "c0e6d3ad",
   "metadata": {},
   "outputs": [
    {
     "name": "stdout",
     "output_type": "stream",
     "text": [
      "0\n",
      "1\n",
      "2\n",
      "3\n",
      "4\n"
     ]
    }
   ],
   "source": [
    "for i in range(n):\n",
    "    print(i)"
   ]
  },
  {
   "cell_type": "code",
   "execution_count": 20,
   "id": "1a8aa8ae",
   "metadata": {},
   "outputs": [
    {
     "name": "stdout",
     "output_type": "stream",
     "text": [
      "5\n",
      "5\n",
      "5\n",
      "5\n",
      "5\n"
     ]
    }
   ],
   "source": [
    "for i in range(n):\n",
    "    print(n) # this will print n for 5 times"
   ]
  },
  {
   "cell_type": "code",
   "execution_count": 23,
   "id": "890118b0",
   "metadata": {},
   "outputs": [
    {
     "name": "stdout",
     "output_type": "stream",
     "text": [
      "5\n",
      "5\n",
      "5\n",
      "5\n",
      "5\n"
     ]
    }
   ],
   "source": [
    "for i in range(n):\n",
    "    print(str(n))"
   ]
  },
  {
   "cell_type": "code",
   "execution_count": 24,
   "id": "bf3e0b98",
   "metadata": {},
   "outputs": [
    {
     "name": "stdout",
     "output_type": "stream",
     "text": [
      "25\n",
      "25\n",
      "25\n",
      "25\n",
      "25\n"
     ]
    }
   ],
   "source": [
    "for i in range(5):\n",
    "    print(n * n)"
   ]
  },
  {
   "cell_type": "code",
   "execution_count": 26,
   "id": "51c7d2f8",
   "metadata": {},
   "outputs": [
    {
     "name": "stdout",
     "output_type": "stream",
     "text": [
      "55555\n",
      "55555\n",
      "55555\n",
      "55555\n",
      "55555\n"
     ]
    }
   ],
   "source": [
    "for i in range(n):\n",
    "    print(str(n) * n) # to get fixed or static values. we convert to string"
   ]
  },
  {
   "cell_type": "code",
   "execution_count": 27,
   "id": "52eb3f42",
   "metadata": {},
   "outputs": [
    {
     "name": "stdout",
     "output_type": "stream",
     "text": [
      "5 5 5 5 5 \n",
      "5 5 5 5 5 \n",
      "5 5 5 5 5 \n",
      "5 5 5 5 5 \n",
      "5 5 5 5 5 \n"
     ]
    }
   ],
   "source": [
    "for i in range(n):\n",
    "    print((str(n)+ \" \") * n) # (5) * 5 times"
   ]
  },
  {
   "cell_type": "code",
   "execution_count": 29,
   "id": "a48bd8fe",
   "metadata": {},
   "outputs": [
    {
     "name": "stdout",
     "output_type": "stream",
     "text": [
      "* * * * * \n",
      "* * * * * \n",
      "* * * * * \n",
      "* * * * * \n",
      "* * * * * \n"
     ]
    }
   ],
   "source": [
    "for i in range(n):\n",
    "    print(\"* \" * n) # (*) to 5 times"
   ]
  },
  {
   "cell_type": "code",
   "execution_count": 30,
   "id": "b048d185",
   "metadata": {},
   "outputs": [
    {
     "name": "stdout",
     "output_type": "stream",
     "text": [
      "* * * * * \n",
      "* * * * \n",
      "* * * \n",
      "* * \n",
      "* \n"
     ]
    }
   ],
   "source": [
    "for i in range(n):\n",
    "    print(\"* \" * (n-i)) "
   ]
  },
  {
   "cell_type": "raw",
   "id": "28e99e37",
   "metadata": {},
   "source": [
    "In above case:\n",
    "    0 -> * * * * * -> ((*) * (5 - 0 = 5)) => * 5 times\n",
    "    1 -> * * * * -> ((*) * (5 - 1 = 4)) => * 4 times\n",
    "    2 -> * * *  -> ((*) * (5 - 2 = 3)) => * 3 times\n",
    "    3 -> * *  -> ((*) * (5 - 3 = 2)) => * 2 times\n",
    "    4 -> *  -> ((*) * (5 - 4 = 1)) => * 1 time"
   ]
  },
  {
   "cell_type": "markdown",
   "id": "dbe95e48",
   "metadata": {},
   "source": [
    "# To get incremented values, we need to use inner loop "
   ]
  },
  {
   "cell_type": "code",
   "execution_count": 32,
   "id": "2f1c1f60",
   "metadata": {},
   "outputs": [
    {
     "name": "stdout",
     "output_type": "stream",
     "text": [
      "1  \n",
      "1 2  \n",
      "1 2 3  \n",
      "1 2 3 4  \n",
      "1 2 3 4 5  \n"
     ]
    }
   ],
   "source": [
    "for i in range(n): # 0 1 2 3 4\n",
    "    for j in range(i+1): # \n",
    "        print(j+1, end = \" \")\n",
    "    print(\" \")"
   ]
  },
  {
   "cell_type": "code",
   "execution_count": 39,
   "id": "ef6fc9b3",
   "metadata": {},
   "outputs": [
    {
     "name": "stdout",
     "output_type": "stream",
     "text": [
      " \n",
      "1  \n",
      "2 2  \n",
      "3 3 3  \n",
      "4 4 4 4  \n"
     ]
    }
   ],
   "source": [
    "for i in range(n): # 0 1 2 3 4\n",
    "    for j in range(i): # \n",
    "        print(i, end = \" \")\n",
    "    print(\" \")"
   ]
  },
  {
   "cell_type": "code",
   "execution_count": 40,
   "id": "8b515163",
   "metadata": {},
   "outputs": [
    {
     "name": "stdout",
     "output_type": "stream",
     "text": [
      " \n",
      "0  \n",
      "0 1  \n",
      "0 1 2  \n",
      "0 1 2 3  \n"
     ]
    }
   ],
   "source": [
    "for i in range(n): # 0 1 2 3 4\n",
    "    for j in range(i): # \n",
    "        print(j, end = \" \")\n",
    "    print(\" \")"
   ]
  },
  {
   "cell_type": "code",
   "execution_count": 38,
   "id": "74a6a582",
   "metadata": {},
   "outputs": [
    {
     "name": "stdout",
     "output_type": "stream",
     "text": [
      " \n",
      "0  \n",
      "0 1  \n",
      "0 1 2  \n",
      "0 1 2 3  \n"
     ]
    }
   ],
   "source": [
    "for i in range(n): # 0 1 2 3 4\n",
    "    for j in range(i): # \n",
    "        print(j, end = \" \")\n",
    "    print(\" \")"
   ]
  },
  {
   "cell_type": "code",
   "execution_count": 37,
   "id": "305578d7",
   "metadata": {},
   "outputs": [
    {
     "name": "stdout",
     "output_type": "stream",
     "text": [
      "0  \n",
      "0 1  \n",
      "0 1 2  \n",
      "0 1 2 3  \n",
      "0 1 2 3 4  \n"
     ]
    }
   ],
   "source": [
    "for i in range(n): # 0 1 2 3 4\n",
    "    for j in range(i+1): # \n",
    "        print(j, end = \" \")\n",
    "    print(\" \")"
   ]
  },
  {
   "cell_type": "code",
   "execution_count": 35,
   "id": "d50cb0df",
   "metadata": {},
   "outputs": [
    {
     "name": "stdout",
     "output_type": "stream",
     "text": [
      " \n",
      "1  \n",
      "1 2  \n",
      "1 2 3  \n",
      "1 2 3 4  \n"
     ]
    }
   ],
   "source": [
    "for i in range(n): # 0 1 2 3 4\n",
    "    for j in range(i): \n",
    "        print(j+1, end = \" \")\n",
    "    print(\" \")"
   ]
  },
  {
   "cell_type": "code",
   "execution_count": 36,
   "id": "ab52dc61",
   "metadata": {},
   "outputs": [
    {
     "name": "stdout",
     "output_type": "stream",
     "text": [
      "1\n",
      "2\n",
      "3\n",
      "4\n",
      "5\n"
     ]
    }
   ],
   "source": [
    "for i in range(n):\n",
    "    print(i+1)"
   ]
  },
  {
   "cell_type": "code",
   "execution_count": 50,
   "id": "9908bb7f",
   "metadata": {},
   "outputs": [],
   "source": [
    "n = 3"
   ]
  },
  {
   "cell_type": "code",
   "execution_count": 57,
   "id": "5a90f21f",
   "metadata": {},
   "outputs": [],
   "source": [
    "# Printing j"
   ]
  },
  {
   "cell_type": "code",
   "execution_count": 51,
   "id": "be9e6519",
   "metadata": {},
   "outputs": [
    {
     "name": "stdout",
     "output_type": "stream",
     "text": [
      " \n",
      "0  \n",
      "0 1  \n"
     ]
    }
   ],
   "source": [
    "for i in range(n): # 0 1 2\n",
    "    for j in range(i): \n",
    "        print(j, end = \" \")\n",
    "    print(\" \")"
   ]
  },
  {
   "cell_type": "code",
   "execution_count": 52,
   "id": "79014bcd",
   "metadata": {},
   "outputs": [
    {
     "name": "stdout",
     "output_type": "stream",
     "text": [
      "0  \n",
      "0 1  \n",
      "0 1 2  \n"
     ]
    }
   ],
   "source": [
    "for i in range(n): # 0 1 2\n",
    "    for j in range(i+1): \n",
    "        print(j, end = \" \")\n",
    "    print(\" \")"
   ]
  },
  {
   "cell_type": "code",
   "execution_count": 53,
   "id": "8433e4eb",
   "metadata": {},
   "outputs": [
    {
     "name": "stdout",
     "output_type": "stream",
     "text": [
      "1  \n",
      "1 2  \n",
      "1 2 3  \n"
     ]
    }
   ],
   "source": [
    "for i in range(n): # 0 1 2\n",
    "    for j in range(i+1): \n",
    "        print(j+1, end = \" \")\n",
    "    print(\" \")"
   ]
  },
  {
   "cell_type": "code",
   "execution_count": 58,
   "id": "81b5b852",
   "metadata": {},
   "outputs": [],
   "source": [
    "# Printing i"
   ]
  },
  {
   "cell_type": "code",
   "execution_count": 54,
   "id": "8f5256cf",
   "metadata": {},
   "outputs": [
    {
     "name": "stdout",
     "output_type": "stream",
     "text": [
      " \n",
      "1  \n",
      "2 2  \n"
     ]
    }
   ],
   "source": [
    "for i in range(n): # 0 1 2\n",
    "    for j in range(i): \n",
    "        print(i, end = \" \")\n",
    "    print(\" \")"
   ]
  },
  {
   "cell_type": "code",
   "execution_count": 55,
   "id": "ff646d64",
   "metadata": {},
   "outputs": [
    {
     "name": "stdout",
     "output_type": "stream",
     "text": [
      "0  \n",
      "1 1  \n",
      "2 2 2  \n"
     ]
    }
   ],
   "source": [
    "for i in range(n): # 0 1 2\n",
    "    for j in range(i+1): \n",
    "        print(i, end = \" \")\n",
    "    print(\" \")"
   ]
  },
  {
   "cell_type": "code",
   "execution_count": 56,
   "id": "15d3484c",
   "metadata": {},
   "outputs": [
    {
     "name": "stdout",
     "output_type": "stream",
     "text": [
      "1  \n",
      "2 2  \n",
      "3 3 3  \n"
     ]
    }
   ],
   "source": [
    "for i in range(n): # 0 1 2\n",
    "    for j in range(i+1): \n",
    "        print(i+1, end = \" \")\n",
    "    print(\" \")"
   ]
  },
  {
   "cell_type": "code",
   "execution_count": 59,
   "id": "a8bf46dd",
   "metadata": {},
   "outputs": [],
   "source": [
    "# printing with incremented values"
   ]
  },
  {
   "cell_type": "code",
   "execution_count": 61,
   "id": "2e122cfc",
   "metadata": {},
   "outputs": [
    {
     "name": "stdout",
     "output_type": "stream",
     "text": [
      "1  \n",
      "1 2  \n",
      "1 2 3  \n",
      "1 2 3 4  \n",
      "1 2 3 4 5  \n"
     ]
    }
   ],
   "source": [
    "for i in range(5):\n",
    "    for j in range(i+1):\n",
    "        print(j+1, end = \" \")\n",
    "    print(\" \")"
   ]
  },
  {
   "cell_type": "code",
   "execution_count": 66,
   "id": "97b30533",
   "metadata": {},
   "outputs": [
    {
     "name": "stdout",
     "output_type": "stream",
     "text": [
      "0  \n",
      "0 1  \n",
      "0 1 2  \n",
      "0 1 2 3  \n",
      "0 1 2 3 4  \n"
     ]
    }
   ],
   "source": [
    "for i in range(5):\n",
    "    for j in range(i+1):\n",
    "        print(j, end = \" \")\n",
    "    print(\" \")"
   ]
  },
  {
   "cell_type": "code",
   "execution_count": 67,
   "id": "0adbc640",
   "metadata": {},
   "outputs": [
    {
     "name": "stdout",
     "output_type": "stream",
     "text": [
      "*   \n",
      "*  *   \n",
      "*  *  *   \n",
      "*  *  *  *   \n",
      "*  *  *  *  *   \n"
     ]
    }
   ],
   "source": [
    "for i in range(5):\n",
    "    for j in range(i+1):\n",
    "        print(\"* \", end = \" \")\n",
    "    print(\" \")"
   ]
  },
  {
   "cell_type": "code",
   "execution_count": 72,
   "id": "3cb92dde",
   "metadata": {},
   "outputs": [
    {
     "name": "stdout",
     "output_type": "stream",
     "text": [
      "1 2 3 4 5  \n",
      "1 2 3 4 5  \n",
      "1 2 3 4 5  \n",
      "1 2 3 4 5  \n",
      "1 2 3 4 5  \n"
     ]
    }
   ],
   "source": [
    "for i in range(5):\n",
    "    for j in range(5):\n",
    "        print(j+1, end = \" \")\n",
    "    print(\" \")"
   ]
  }
 ],
 "metadata": {
  "kernelspec": {
   "display_name": "Python 3 (ipykernel)",
   "language": "python",
   "name": "python3"
  },
  "language_info": {
   "codemirror_mode": {
    "name": "ipython",
    "version": 3
   },
   "file_extension": ".py",
   "mimetype": "text/x-python",
   "name": "python",
   "nbconvert_exporter": "python",
   "pygments_lexer": "ipython3",
   "version": "3.9.7"
  }
 },
 "nbformat": 4,
 "nbformat_minor": 5
}
